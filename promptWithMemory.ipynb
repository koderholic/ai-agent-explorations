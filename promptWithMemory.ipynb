{
  "nbformat": 4,
  "nbformat_minor": 0,
  "metadata": {
    "colab": {
      "provenance": [],
      "authorship_tag": "ABX9TyNrV5/TjqlrUOFQUoAUqa4t",
      "include_colab_link": true
    },
    "kernelspec": {
      "name": "python3",
      "display_name": "Python 3"
    },
    "language_info": {
      "name": "python"
    }
  },
  "cells": [
    {
      "cell_type": "markdown",
      "metadata": {
        "id": "view-in-github",
        "colab_type": "text"
      },
      "source": [
        "<a href=\"https://colab.research.google.com/github/koderholic/ai-agent-explorations/blob/main/promptWithMemory.ipynb\" target=\"_parent\"><img src=\"https://colab.research.google.com/assets/colab-badge.svg\" alt=\"Open In Colab\"/></a>"
      ]
    },
    {
      "cell_type": "code",
      "execution_count": 2,
      "metadata": {
        "colab": {
          "base_uri": "https://localhost:8080/"
        },
        "id": "fRNMLlyVSY0M",
        "outputId": "bc5c0775-64ef-4e94-b59e-56d4f519d0aa"
      },
      "outputs": [
        {
          "output_type": "stream",
          "name": "stdout",
          "text": [
            "Certainly! You can achieve this in a functional programming style by using Python's `dict` and `map` functions along with a comprehension. Here’s how you can write a function to swap the keys and values in a dictionary:\n",
            "\n",
            "```python\n",
            "def swap_dict_keys_values(d):\n",
            "    # Ensure the dictionary is valid for swapping keys and values\n",
            "    # i.e., all values must be hashable and unique\n",
            "    if len(d) != len(set(d.values())):\n",
            "        raise ValueError(\"All values in the dictionary must be unique to swap keys and values.\")\n",
            "    \n",
            "    # Use a dictionary comprehension to swap keys and values\n",
            "    swapped = {value: key for key, value in d.items()}\n",
            "    return swapped\n",
            "\n",
            "# Example usage:\n",
            "original_dict = {'a': 1, 'b': 2, 'c': 3}\n",
            "swapped_dict = swap_dict_keys_values(original_dict)\n",
            "print(swapped_dict)\n",
            "```\n",
            "\n",
            "In this implementation:\n",
            "- We ensure that the values in the original dictionary are unique since keys must be unique in a dictionary. This is checked by comparing the length of the dictionary to the length of the set made from the dictionary values.\n",
            "- We then use a dictionary comprehension to create a new dictionary where each key-value pair is swapped. This comprehension iterates through the original dictionary, swapping each key and value.\n",
            "\n",
            "This approach uses a functional programming perspective by leveraging immutable operations and transformations directly into concise expressions.\n",
            "Certainly! Adding documentation to the function will make it easier for others to understand its purpose, usage, and constraints. Here's the updated function with a docstring explaining these aspects:\n",
            "\n",
            "```python\n",
            "def swap_dict_keys_values(d):\n",
            "    \"\"\"\n",
            "    Swaps the keys and values in a dictionary.\n",
            "\n",
            "    This function takes a dictionary as input and returns a new dictionary\n",
            "    with the keys and values swapped. It is important that all values in the\n",
            "    original dictionary are unique and hashable to ensure they can be used\n",
            "    as keys in the new dictionary.\n",
            "\n",
            "    Parameters:\n",
            "    d (dict): The dictionary whose keys and values need to be swapped.\n",
            "\n",
            "    Returns:\n",
            "    dict: A new dictionary with the keys and values swapped.\n",
            "\n",
            "    Raises:\n",
            "    ValueError: If any values in the dictionary are not unique, since this\n",
            "                would result in duplicate keys in the swapped dictionary.\n",
            "\n",
            "    Example:\n",
            "    >>> original_dict = {'a': 1, 'b': 2, 'c': 3}\n",
            "    >>> swapped_dict = swap_dict_keys_values(original_dict)\n",
            "    >>> print(swapped_dict)\n",
            "    {1: 'a', 2: 'b', 3: 'c'}\n",
            "    \"\"\"\n",
            "\n",
            "    # Ensure the dictionary is valid for swapping keys and values\n",
            "    # i.e., all values must be hashable and unique\n",
            "    if len(d) != len(set(d.values())):\n",
            "        raise ValueError(\"All values in the dictionary must be unique to swap keys and values.\")\n",
            "    \n",
            "    # Use a dictionary comprehension to swap keys and values\n",
            "    swapped = {value: key for key, value in d.items()}\n",
            "    return swapped\n",
            "\n",
            "# Example usage:\n",
            "original_dict = {'a': 1, 'b': 2, 'c': 3}\n",
            "swapped_dict = swap_dict_keys_values(original_dict)\n",
            "print(swapped_dict)\n",
            "```\n",
            "\n",
            "The docstring includes:\n",
            "- A brief description of the function's purpose.\n",
            "- The parameters and their types.\n",
            "- The return type and description of what the returned value represents.\n",
            "- Information about possible exceptions that can be raised.\n",
            "- An example illustrating how to use the function. \n",
            "\n",
            "This documentation will help anyone using or maintaining this code better understand its behavior and constraints.\n"
          ]
        }
      ],
      "source": [
        "from litellm import completion\n",
        "from typing import List, Dict\n",
        "\n",
        "def generate_response(messages: List[Dict]) -> str:\n",
        "    \"\"\"Call LLM to get response\"\"\"\n",
        "    response = completion(\n",
        "        model=\"openai/gpt-4o\",\n",
        "        messages=messages,\n",
        "        max_tokens=1024\n",
        "    )\n",
        "    return response.choices[0].message.content\n",
        "\n",
        "\n",
        "messages = [\n",
        "   {\"role\": \"system\", \"content\": \"You are an expert software engineer that prefers functional programming.\"},\n",
        "   {\"role\": \"user\", \"content\": \"Write a function to swap the keys and values in a dictionary.\"}\n",
        "]\n",
        "\n",
        "response = generate_response(messages)\n",
        "print(response)\n",
        "\n",
        "# We are going to make this verbose so it is clear what\n",
        "# is going on. In a real application, you would likely\n",
        "# just append to the messages list.\n",
        "messages = [\n",
        "   {\"role\": \"system\", \"content\": \"You are an expert software engineer that prefers functional programming.\"},\n",
        "   {\"role\": \"user\", \"content\": \"Write a function to swap the keys and values in a dictionary.\"},\n",
        "\n",
        "   # Here is the assistant's response from the previous step\n",
        "   # with the code. This gives it \"memory\" of the previous\n",
        "   # interaction.\n",
        "   {\"role\": \"assistant\", \"content\": response},\n",
        "\n",
        "   # Now, we can ask the assistant to update the function\n",
        "   {\"role\": \"user\", \"content\": \"Update the function to include documentation.\"}\n",
        "]\n",
        "\n",
        "response = generate_response(messages)\n",
        "print(response)"
      ]
    },
    {
      "cell_type": "code",
      "source": [
        "!!pip install litellm\n",
        "\n",
        "# Important!!!\n",
        "#\n",
        "# <---- Set your 'OPENAI_API_KEY' as a secret over there with the \"key\" icon\n",
        "#\n",
        "#\n",
        "import os\n",
        "from google.colab import userdata\n",
        "api_key = userdata.get('OPENAI_API_KEY')\n",
        "os.environ['OPENAI_API_KEY'] = api_key"
      ],
      "metadata": {
        "id": "j8MPYWl6TFZa"
      },
      "execution_count": 1,
      "outputs": []
    },
    {
      "cell_type": "code",
      "source": [],
      "metadata": {
        "id": "FnojDUh9TGas"
      },
      "execution_count": null,
      "outputs": []
    }
  ]
}